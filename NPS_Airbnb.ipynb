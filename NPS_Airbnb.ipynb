{
 "cells": [
  {
   "cell_type": "markdown",
   "id": "d337dfcf",
   "metadata": {},
   "source": [
    "# NPS_Airbnb"
   ]
  },
  {
   "cell_type": "markdown",
   "id": "6e133b0b",
   "metadata": {},
   "source": [
    "## Importing numpy"
   ]
  },
  {
   "cell_type": "code",
   "execution_count": 1,
   "id": "4e48adcc",
   "metadata": {},
   "outputs": [],
   "source": [
    "import numpy as np"
   ]
  },
  {
   "cell_type": "markdown",
   "id": "85dd11b9",
   "metadata": {},
   "source": [
    "## NPS"
   ]
  },
  {
   "cell_type": "code",
   "execution_count": 38,
   "id": "c402be8b",
   "metadata": {},
   "outputs": [
    {
     "data": {
      "text/plain": [
       "array([ 7., 10.,  5., ...,  5.,  9., 10.])"
      ]
     },
     "execution_count": 38,
     "metadata": {},
     "output_type": "execute_result"
    }
   ],
   "source": [
    "score=np.loadtxt(\"Survey.txt\")\n",
    "score"
   ]
  },
  {
   "cell_type": "code",
   "execution_count": 39,
   "id": "64919c41",
   "metadata": {},
   "outputs": [
    {
     "data": {
      "text/plain": [
       "1167"
      ]
     },
     "execution_count": 39,
     "metadata": {},
     "output_type": "execute_result"
    }
   ],
   "source": [
    "score.size"
   ]
  },
  {
   "cell_type": "code",
   "execution_count": 47,
   "id": "93a426c1",
   "metadata": {},
   "outputs": [
    {
     "data": {
      "text/plain": [
       "1167"
      ]
     },
     "execution_count": 47,
     "metadata": {},
     "output_type": "execute_result"
    }
   ],
   "source": [
    "Total_population=score.size\n",
    "Total_population"
   ]
  },
  {
   "cell_type": "code",
   "execution_count": 40,
   "id": "a05e0dbc",
   "metadata": {},
   "outputs": [
    {
     "data": {
      "text/plain": [
       "10.0"
      ]
     },
     "execution_count": 40,
     "metadata": {},
     "output_type": "execute_result"
    }
   ],
   "source": [
    "score.max()"
   ]
  },
  {
   "cell_type": "code",
   "execution_count": 41,
   "id": "c1df0bbe",
   "metadata": {},
   "outputs": [
    {
     "data": {
      "text/plain": [
       "1.0"
      ]
     },
     "execution_count": 41,
     "metadata": {},
     "output_type": "execute_result"
    }
   ],
   "source": [
    "score.min()"
   ]
  },
  {
   "cell_type": "markdown",
   "id": "6e729276",
   "metadata": {},
   "source": [
    "#### Detractors"
   ]
  },
  {
   "cell_type": "code",
   "execution_count": 70,
   "id": "b159c9da",
   "metadata": {},
   "outputs": [
    {
     "data": {
      "text/plain": [
       "array([False, False,  True, ...,  True, False, False])"
      ]
     },
     "execution_count": 70,
     "metadata": {},
     "output_type": "execute_result"
    }
   ],
   "source": [
    "score<=6"
   ]
  },
  {
   "cell_type": "code",
   "execution_count": 71,
   "id": "03a05d44",
   "metadata": {},
   "outputs": [
    {
     "data": {
      "text/plain": [
       "array([5., 4., 4., 5., 1., 5., 5., 1., 4., 5., 4., 4., 4., 5., 1., 4., 1.,\n",
       "       4., 1., 5., 5., 1., 1., 4., 1., 5., 4., 1., 1., 4., 1., 5., 1., 4.,\n",
       "       4., 1., 1., 1., 1., 1., 1., 1., 4., 1., 1., 5., 5., 5., 4., 4., 1.,\n",
       "       4., 1., 4., 1., 5., 1., 1., 5., 4., 4., 4., 4., 1., 4., 5., 4., 4.,\n",
       "       1., 1., 5., 5., 1., 5., 1., 5., 5., 4., 5., 4., 1., 1., 1., 1., 4.,\n",
       "       1., 4., 4., 5., 4., 1., 1., 1., 1., 5., 4., 5., 5., 4., 1., 5., 1.,\n",
       "       4., 4., 1., 1., 1., 4., 4., 5., 5., 4., 5., 5., 5., 1., 4., 1., 5.,\n",
       "       5., 1., 5., 1., 1., 5., 5., 4., 4., 1., 4., 4., 4., 1., 1., 4., 4.,\n",
       "       4., 5., 5., 1., 1., 4., 1., 4., 1., 4., 1., 4., 1., 4., 1., 5., 4.,\n",
       "       4., 5., 1., 4., 5., 5., 5., 1., 5., 4., 1., 1., 5., 5., 5., 4., 5.,\n",
       "       4., 4., 1., 4., 4., 4., 4., 5., 1., 5., 5., 1., 4., 4., 5., 1., 1.,\n",
       "       4., 5., 5., 5., 1., 4., 5., 5., 4., 1., 5., 5., 5., 1., 1., 5., 5.,\n",
       "       1., 1., 1., 4., 5., 5., 4., 4., 4., 5., 1., 4., 1., 4., 5., 4., 5.,\n",
       "       5., 1., 5., 1., 5., 5., 1., 4., 5., 5., 4., 1., 5., 1., 4., 1., 4.,\n",
       "       1., 1., 1., 1., 1., 1., 4., 1., 5., 4., 5., 1., 5., 1., 5., 4., 4.,\n",
       "       4., 4., 5., 5., 1., 4., 1., 5., 5., 1., 4., 1., 1., 4., 4., 4., 4.,\n",
       "       1., 4., 1., 1., 4., 1., 5., 4., 1., 1., 5., 4., 5., 4., 4., 4., 1.,\n",
       "       5., 5., 1., 4., 5., 4., 4., 4., 1., 4., 1., 4., 4., 4., 5., 1., 1.,\n",
       "       1., 4., 5., 5., 1., 5., 4., 5., 5., 4., 1., 1., 5., 5., 5., 1., 4.,\n",
       "       5., 4., 5., 5., 5., 1., 4., 1., 5.])"
      ]
     },
     "execution_count": 71,
     "metadata": {},
     "output_type": "execute_result"
    }
   ],
   "source": [
    "score[score<=6]"
   ]
  },
  {
   "cell_type": "code",
   "execution_count": 46,
   "id": "dbd5c55f",
   "metadata": {},
   "outputs": [
    {
     "data": {
      "text/plain": [
       "332"
      ]
     },
     "execution_count": 46,
     "metadata": {},
     "output_type": "execute_result"
    }
   ],
   "source": [
    "num_detractors=score[score<=6].size\n",
    "num_detractors"
   ]
  },
  {
   "cell_type": "markdown",
   "id": "c9c6d224",
   "metadata": {},
   "source": [
    "#### Passive = score=7 or 8"
   ]
  },
  {
   "cell_type": "code",
   "execution_count": null,
   "id": "b9613fa2",
   "metadata": {},
   "outputs": [],
   "source": [
    "(score >= 7) & (score <= 8)"
   ]
  },
  {
   "cell_type": "code",
   "execution_count": 51,
   "id": "acf942e0",
   "metadata": {},
   "outputs": [
    {
     "data": {
      "text/plain": [
       "array([7., 7., 7., 7., 8., 8., 8., 7., 7., 7., 8., 8., 7., 8., 8., 8., 8.,\n",
       "       7., 7., 7., 8., 7., 7., 7., 8., 7., 8., 8., 7., 8., 8., 8., 7., 8.,\n",
       "       7., 8., 8., 7., 8., 7., 8., 7., 7., 8., 8., 8., 7., 7., 8., 8., 8.,\n",
       "       7., 7., 7., 8., 7., 7., 8., 7., 7., 7., 8., 7., 7., 8., 8., 8., 7.,\n",
       "       7., 7., 7., 7., 8., 8., 7., 8., 7., 8., 8., 7., 8., 7., 7., 8., 7.,\n",
       "       7., 7., 7., 7., 8., 8., 7., 7., 8., 8., 8., 8., 8., 7., 7., 7., 8.,\n",
       "       7., 8., 8., 7., 7., 8., 8., 7., 7., 8., 7., 7., 8., 8., 8., 7., 7.,\n",
       "       8., 8., 8., 8., 7., 7., 7., 8., 7., 7., 7., 7., 8., 7., 8., 7., 7.,\n",
       "       7., 8., 8., 8., 7., 8., 8., 8., 8., 7., 8., 7., 7., 7., 7., 7., 8.,\n",
       "       7., 7., 7., 7., 8., 7., 8., 8., 7., 7., 8., 8., 7., 8., 8., 7., 7.,\n",
       "       7., 8., 8., 7., 7., 8., 7., 7., 7., 8., 7., 7., 7., 8., 7., 7., 7.,\n",
       "       7., 7., 8., 8., 7., 8., 7., 7., 7., 8., 8., 8., 8., 8., 7., 8., 7.,\n",
       "       7., 8., 7., 7., 8., 7., 8., 8., 7., 7., 8., 8., 8., 7., 8., 8., 7.,\n",
       "       7., 7., 7., 7., 8.])"
      ]
     },
     "execution_count": 51,
     "metadata": {},
     "output_type": "execute_result"
    }
   ],
   "source": [
    "score[(score >= 7) & (score <= 8)]"
   ]
  },
  {
   "cell_type": "code",
   "execution_count": 56,
   "id": "c52615e3",
   "metadata": {},
   "outputs": [
    {
     "data": {
      "text/plain": [
       "226"
      ]
     },
     "execution_count": 56,
     "metadata": {},
     "output_type": "execute_result"
    }
   ],
   "source": [
    "num_passive=score[(score >= 7) & (score <= 8)].size\n",
    "num_passive"
   ]
  },
  {
   "cell_type": "markdown",
   "id": "76bfbf4e",
   "metadata": {},
   "source": [
    "#### Promoters = ( score=9 or 10)"
   ]
  },
  {
   "cell_type": "code",
   "execution_count": 57,
   "id": "3dad0809",
   "metadata": {},
   "outputs": [
    {
     "data": {
      "text/plain": [
       "array([False,  True, False, ..., False,  True,  True])"
      ]
     },
     "execution_count": 57,
     "metadata": {},
     "output_type": "execute_result"
    }
   ],
   "source": [
    "score >= 9"
   ]
  },
  {
   "cell_type": "code",
   "execution_count": 59,
   "id": "54b875b6",
   "metadata": {},
   "outputs": [
    {
     "data": {
      "text/plain": [
       "array([10.,  9.,  9.,  9.,  9.,  9., 10.,  9.,  9., 10.,  9.,  9.,  9.,\n",
       "        9.,  9.,  9.,  9., 10., 10.,  9., 10.,  9., 10.,  9.,  9., 10.,\n",
       "       10.,  9., 10.,  9., 10., 10., 10.,  9.,  9., 10., 10., 10.,  9.,\n",
       "       10.,  9., 10.,  9.,  9.,  9., 10.,  9.,  9.,  9.,  9.,  9.,  9.,\n",
       "       10.,  9.,  9.,  9., 10.,  9., 10.,  9.,  9.,  9.,  9.,  9., 10.,\n",
       "       10.,  9., 10.,  9.,  9., 10.,  9.,  9., 10.,  9.,  9.,  9.,  9.,\n",
       "        9.,  9.,  9.,  9.,  9.,  9.,  9., 10.,  9.,  9.,  9.,  9.,  9.,\n",
       "        9.,  9.,  9., 10.,  9.,  9.,  9.,  9.,  9., 10., 10.,  9., 10.,\n",
       "       10., 10., 10.,  9., 10.,  9.,  9.,  9.,  9.,  9.,  9.,  9., 10.,\n",
       "        9., 10.,  9., 10.,  9., 10., 10., 10.,  9.,  9., 10., 10.,  9.,\n",
       "        9.,  9.,  9., 10.,  9.,  9.,  9.,  9., 10., 10.,  9.,  9.,  9.,\n",
       "       10.,  9.,  9.,  9.,  9.,  9., 10.,  9.,  9.,  9., 10.,  9., 10.,\n",
       "       10.,  9.,  9.,  9.,  9., 10.,  9., 10.,  9.,  9.,  9.,  9., 10.,\n",
       "        9., 10.,  9.,  9.,  9.,  9.,  9.,  9.,  9.,  9.,  9.,  9.,  9.,\n",
       "       10., 10.,  9.,  9.,  9., 10.,  9., 10., 10., 10., 10., 10.,  9.,\n",
       "        9.,  9.,  9., 10., 10., 10.,  9.,  9., 10.,  9., 10., 10., 10.,\n",
       "       10.,  9., 10., 10.,  9., 10.,  9.,  9.,  9.,  9., 10.,  9., 10.,\n",
       "        9., 10.,  9.,  9.,  9.,  9., 10.,  9.,  9.,  9.,  9.,  9., 10.,\n",
       "        9., 10., 10.,  9., 10., 10., 10.,  9.,  9.,  9.,  9.,  9.,  9.,\n",
       "       10.,  9.,  9., 10.,  9., 10., 10.,  9.,  9.,  9., 10., 10., 10.,\n",
       "       10.,  9.,  9.,  9., 10., 10.,  9., 10.,  9.,  9.,  9., 10.,  9.,\n",
       "        9.,  9.,  9.,  9.,  9.,  9.,  9.,  9.,  9., 10.,  9.,  9.,  9.,\n",
       "       10.,  9., 10.,  9., 10.,  9., 10.,  9.,  9., 10., 10.,  9.,  9.,\n",
       "        9., 10.,  9.,  9., 10.,  9.,  9.,  9.,  9.,  9.,  9., 10., 10.,\n",
       "        9., 10.,  9.,  9.,  9.,  9., 10.,  9.,  9.,  9.,  9., 10.,  9.,\n",
       "       10.,  9., 10.,  9., 10., 10.,  9., 10., 10.,  9., 10.,  9.,  9.,\n",
       "        9.,  9.,  9., 10.,  9., 10., 10.,  9., 10., 10.,  9.,  9., 10.,\n",
       "        9., 10., 10.,  9., 10., 10., 10.,  9.,  9.,  9., 10.,  9.,  9.,\n",
       "        9., 10.,  9.,  9.,  9.,  9.,  9., 10.,  9.,  9.,  9., 10.,  9.,\n",
       "        9.,  9.,  9.,  9., 10.,  9., 10.,  9.,  9., 10.,  9.,  9.,  9.,\n",
       "        9.,  9.,  9., 10.,  9.,  9.,  9.,  9.,  9.,  9.,  9.,  9.,  9.,\n",
       "        9., 10.,  9., 10.,  9.,  9.,  9.,  9.,  9.,  9.,  9.,  9.,  9.,\n",
       "        9.,  9.,  9.,  9.,  9., 10., 10.,  9.,  9.,  9.,  9., 10.,  9.,\n",
       "       10.,  9., 10., 10.,  9.,  9., 10.,  9., 10., 10., 10.,  9.,  9.,\n",
       "        9., 10., 10.,  9.,  9.,  9., 10.,  9.,  9.,  9.,  9., 10.,  9.,\n",
       "       10.,  9.,  9., 10.,  9.,  9.,  9., 10.,  9.,  9.,  9.,  9., 10.,\n",
       "        9.,  9.,  9.,  9.,  9.,  9., 10.,  9., 10., 10.,  9.,  9.,  9.,\n",
       "       10., 10., 10., 10.,  9.,  9., 10., 10.,  9., 10.,  9., 10.,  9.,\n",
       "       10.,  9.,  9., 10.,  9., 10., 10.,  9.,  9.,  9.,  9.,  9.,  9.,\n",
       "        9.,  9.,  9.,  9.,  9.,  9.,  9.,  9.,  9.,  9.,  9.,  9.,  9.,\n",
       "        9.,  9.,  9.,  9.,  9.,  9.,  9., 10., 10.,  9.,  9.,  9.,  9.,\n",
       "       10., 10.,  9., 10., 10.,  9., 10., 10.,  9., 10., 10., 10.,  9.,\n",
       "        9., 10., 10., 10.,  9.,  9., 10., 10.,  9.,  9.,  9.,  9.,  9.,\n",
       "        9., 10., 10., 10., 10., 10., 10.,  9.,  9.,  9.,  9., 10., 10.,\n",
       "        9.,  9.,  9.,  9.,  9., 10., 10.,  9., 10., 10.,  9., 10., 10.,\n",
       "        9., 10., 10.,  9., 10.,  9., 10., 10.,  9., 10., 10.,  9.,  9.,\n",
       "        9.,  9., 10.,  9.,  9., 10., 10., 10., 10.,  9., 10.])"
      ]
     },
     "execution_count": 59,
     "metadata": {},
     "output_type": "execute_result"
    }
   ],
   "source": [
    "score[score >= 9]"
   ]
  },
  {
   "cell_type": "code",
   "execution_count": 61,
   "id": "464c1e99",
   "metadata": {},
   "outputs": [
    {
     "data": {
      "text/plain": [
       "609"
      ]
     },
     "execution_count": 61,
     "metadata": {},
     "output_type": "execute_result"
    }
   ],
   "source": [
    "Num_Promoters=score[score >= 9].size\n",
    "Num_Promoters"
   ]
  },
  {
   "cell_type": "code",
   "execution_count": 62,
   "id": "964a591f",
   "metadata": {},
   "outputs": [
    {
     "data": {
      "text/plain": [
       "1167"
      ]
     },
     "execution_count": 62,
     "metadata": {},
     "output_type": "execute_result"
    }
   ],
   "source": [
    "num_detractors+num_passive+Num_Promoters"
   ]
  },
  {
   "cell_type": "code",
   "execution_count": 65,
   "id": "f8af5c9e",
   "metadata": {},
   "outputs": [
    {
     "data": {
      "text/plain": [
       "52.19"
      ]
     },
     "execution_count": 65,
     "metadata": {},
     "output_type": "execute_result"
    }
   ],
   "source": [
    "percentage_promoters=np.round(Num_Promoters/Total_population*100,2)\n",
    "percentage_promoters"
   ]
  },
  {
   "cell_type": "code",
   "execution_count": 66,
   "id": "f7bbff8f",
   "metadata": {},
   "outputs": [
    {
     "data": {
      "text/plain": [
       "28.45"
      ]
     },
     "execution_count": 66,
     "metadata": {},
     "output_type": "execute_result"
    }
   ],
   "source": [
    "percentage_detractors=np.round(num_detractors/Total_population*100,2)\n",
    "percentage_detractors"
   ]
  },
  {
   "cell_type": "code",
   "execution_count": 67,
   "id": "c60e8c54",
   "metadata": {},
   "outputs": [
    {
     "data": {
      "text/plain": [
       "19.37"
      ]
     },
     "execution_count": 67,
     "metadata": {},
     "output_type": "execute_result"
    }
   ],
   "source": [
    "percentage_passive=np.round(num_passive/Total_population*100,2)\n",
    "percentage_passive"
   ]
  },
  {
   "cell_type": "code",
   "execution_count": 69,
   "id": "191e8772",
   "metadata": {},
   "outputs": [
    {
     "data": {
      "text/plain": [
       "23.74"
      ]
     },
     "execution_count": 69,
     "metadata": {},
     "output_type": "execute_result"
    }
   ],
   "source": [
    "NPS=percentage_promoters-percentage_detractors\n",
    "NPS"
   ]
  },
  {
   "cell_type": "code",
   "execution_count": null,
   "id": "4447c600",
   "metadata": {},
   "outputs": [],
   "source": []
  }
 ],
 "metadata": {
  "kernelspec": {
   "display_name": "Python 3 (ipykernel)",
   "language": "python",
   "name": "python3"
  },
  "language_info": {
   "codemirror_mode": {
    "name": "ipython",
    "version": 3
   },
   "file_extension": ".py",
   "mimetype": "text/x-python",
   "name": "python",
   "nbconvert_exporter": "python",
   "pygments_lexer": "ipython3",
   "version": "3.11.3"
  }
 },
 "nbformat": 4,
 "nbformat_minor": 5
}
